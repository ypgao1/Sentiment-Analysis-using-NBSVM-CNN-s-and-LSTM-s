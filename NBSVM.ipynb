{
 "cells": [
  {
   "cell_type": "code",
   "execution_count": 1,
   "metadata": {},
   "outputs": [],
   "source": [
    "import pandas as pd\n",
    "import numpy as np\n",
    "from sklearn.feature_extraction.text import CountVectorizer, TfidfVectorizer\n",
    "from sklearn.model_selection import train_test_split\n",
    "import nltk"
   ]
  },
  {
   "cell_type": "code",
   "execution_count": 2,
   "metadata": {},
   "outputs": [],
   "source": [
    "#prepocessing\n",
    "from nltk.tokenize import RegexpTokenizer\n",
    "from nltk.stem import WordNetLemmatizer\n",
    "from nltk.corpus import wordnet\n",
    "\n",
    "\n",
    "tokenizer = RegexpTokenizer(r'\\w+')\n",
    "lemmatizer = WordNetLemmatizer()\n",
    "\n",
    "\n",
    "tag_dict = {\"J\": wordnet.ADJ,\n",
    "                \"N\": wordnet.NOUN,\n",
    "                \"V\": wordnet.VERB,\n",
    "                \"R\": wordnet.ADV}\n",
    "\n",
    "\n",
    "\n",
    "def preprocessing(sentence):\n",
    "    sent = tokenizer.tokenize(sentence.lower().strip())\n",
    "    tags = nltk.pos_tag(sent)\n",
    "\n",
    "\n",
    "    sent = ([lemmatizer.lemmatize(item[0], tag_dict.get(item[1][0], wordnet.NOUN)) for item in tags])\n",
    "    return \" \".join(sent)\n",
    "\n"
   ]
  },
  {
   "cell_type": "code",
   "execution_count": null,
   "metadata": {},
   "outputs": [],
   "source": [
    "#get and clean the training data\n",
    "df = pd.read_csv(\"IMDB_dataset.csv\")\n",
    "df['sentiment'].replace(\"positive\",1 ,inplace=True)\n",
    "df['sentiment'].replace(\"negative\", 0,inplace=True)\n",
    "df[\"review\"] = df[\"review\"].apply(lambda x: preprocessing(x))\n",
    "X = df[\"review\"]\n",
    "Y= df[\"sentiment\"]\n"
   ]
  },
  {
   "cell_type": "code",
   "execution_count": 37,
   "metadata": {},
   "outputs": [],
   "source": [
    "from sklearn.svm import LinearSVC\n",
    "import numpy as np\n",
    "class NBSVM:\n",
    "    def __init__(self):\n",
    "        self.model = None\n",
    "        self.r = None\n",
    "    def fit(self,Xtrain,ytrain,C=1):\n",
    "        p = Xtrain.T.dot(ytrain) +1\n",
    "        invY = 1 - ytrain\n",
    "        q = Xtrain.T.dot(invY) + 1\n",
    "        self.r = np.log((p/np.linalg.norm(p,ord=1)) / (q/np.linalg.norm(q,ord=1)) )\n",
    "\n",
    "        self.model = LinearSVC(C=C,max_iter=10000)\n",
    "        Xnb = Xtrain.multiply(self.r)\n",
    "        self.model.fit(Xnb,ytrain)\n",
    "    def predict(self,Xtest):\n",
    "        Xnb = Xtest.multiply(self.r)\n",
    "        preds = self.model.predict(Xnb)\n",
    "        return preds"
   ]
  },
  {
   "cell_type": "code",
   "execution_count": 23,
   "metadata": {},
   "outputs": [],
   "source": [
    "X_train, X_test, y_train, y_test = train_test_split(X, Y, test_size=0.5, random_state=42)\n",
    "vectorizer = CountVectorizer(binary=False,ngram_range=(1,3))\n",
    "X_train = vectorizer.fit_transform(X_train) \n",
    "X_test = vectorizer.transform(X_test) "
   ]
  },
  {
   "cell_type": "code",
   "execution_count": 39,
   "metadata": {},
   "outputs": [],
   "source": [
    "clf = NBSVM()\n",
    "clf.fit(X_train,y_train)\n",
    "preds = clf.predict(X_test)"
   ]
  },
  {
   "cell_type": "code",
   "execution_count": 40,
   "metadata": {},
   "outputs": [
    {
     "name": "stdout",
     "output_type": "stream",
     "text": [
      "0.91528\n"
     ]
    }
   ],
   "source": [
    "actual = np.array(y_test) \n",
    "\n",
    "correct = 0\n",
    "for i in range(len(preds)):\n",
    "    if preds[i] == actual[i]:\n",
    "        correct +=1\n",
    "print(correct/len(preds))"
   ]
  }
 ],
 "metadata": {
  "kernelspec": {
   "display_name": "Python 3",
   "language": "python",
   "name": "python3"
  },
  "language_info": {
   "codemirror_mode": {
    "name": "ipython",
    "version": 3
   },
   "file_extension": ".py",
   "mimetype": "text/x-python",
   "name": "python",
   "nbconvert_exporter": "python",
   "pygments_lexer": "ipython3",
   "version": "3.6.5"
  }
 },
 "nbformat": 4,
 "nbformat_minor": 2
}
